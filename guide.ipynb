{
  "nbformat": 4,
  "nbformat_minor": 0,
  "metadata": {
    "colab": {
      "name": "anthony_notebook.ipynb",
      "provenance": [],
      "collapsed_sections": [],
      "mount_file_id": "1-CMUHs1bWx1b-ahA781TILolauDbjVuE",
      "authorship_tag": "ABX9TyPQi1ZdYWOW6EuRYBei6dvu"
    },
    "kernelspec": {
      "name": "python3",
      "display_name": "Python 3"
    },
    "accelerator": "GPU"
  },
  "cells": [
    {
      "cell_type": "code",
      "metadata": {
        "id": "lXNPBa9u9Nv6"
      },
      "source": [
        "from google.colab import drive\r\n",
        "drive.mount('/content/drive')"
      ],
      "execution_count": null,
      "outputs": []
    },
    {
      "cell_type": "code",
      "metadata": {
        "id": "1zMoVKbpjLS-"
      },
      "source": [
        "cd drive/My Drive/sketchyFace"
      ],
      "execution_count": null,
      "outputs": []
    },
    {
      "cell_type": "code",
      "metadata": {
        "id": "WGVZJCirGmeI"
      },
      "source": [
        "%tensorflow_version 1.x"
      ],
      "execution_count": null,
      "outputs": []
    },
    {
      "cell_type": "code",
      "metadata": {
        "id": "0nZ_w8UssVPn"
      },
      "source": [
        "!apt install octave"
      ],
      "execution_count": null,
      "outputs": []
    },
    {
      "cell_type": "code",
      "metadata": {
        "id": "_yOQVu_xsVtQ"
      },
      "source": [
        "! sudo apt install liboctave-dev"
      ],
      "execution_count": null,
      "outputs": []
    },
    {
      "cell_type": "code",
      "metadata": {
        "id": "7o6ve-L3sYAx"
      },
      "source": [
        "! octave --eval 'pkg install -forge image'"
      ],
      "execution_count": null,
      "outputs": []
    },
    {
      "cell_type": "code",
      "metadata": {
        "id": "BgcrwHT-bg11"
      },
      "source": [
        "! python generate_data.py --number 150000"
      ],
      "execution_count": null,
      "outputs": []
    },
    {
      "cell_type": "code",
      "metadata": {
        "id": "1chwRUol04lD"
      },
      "source": [
        "! python generate_data.py --number 2000 --test"
      ],
      "execution_count": null,
      "outputs": []
    },
    {
      "cell_type": "code",
      "metadata": {
        "id": "Uqz08nn4cHn4"
      },
      "source": [
        "! python filter_image.py"
      ],
      "execution_count": null,
      "outputs": []
    },
    {
      "cell_type": "code",
      "metadata": {
        "id": "mQ882MA306zJ"
      },
      "source": [
        "! python filter_image.py --test"
      ],
      "execution_count": null,
      "outputs": []
    },
    {
      "cell_type": "code",
      "metadata": {
        "id": "0lqjsi81elmz"
      },
      "source": [
        "! python run_hed.py"
      ],
      "execution_count": null,
      "outputs": []
    },
    {
      "cell_type": "code",
      "metadata": {
        "id": "eXyboXX81AkN"
      },
      "source": [
        "! python run_hed.py --test"
      ],
      "execution_count": null,
      "outputs": []
    },
    {
      "cell_type": "markdown",
      "metadata": {
        "id": "ZJtPVfcni_0C"
      },
      "source": [
        "A model can be trained now, using only the HED sketches. Skip this step if you wish to obtain simpler sketches as well."
      ]
    },
    {
      "cell_type": "code",
      "metadata": {
        "id": "FUvtwBH-0yjB",
      },
      "source": [
        "! python main_model.py --weight 1 --epochs 5 --save 100k_blur --lr 0.0005 --blur"
      ],
    "execution_count": null,
      "outputs": []
    },
    {
      "cell_type": "code",
      "metadata": {
        "id": "EmsIGq30iZMD"
      },
      "source": [
        "cd matlab_postprocess/"
      ],
      "execution_count": null,
      "outputs": []
    },
    {
      "cell_type": "code",
      "metadata": {
        "id": "NGJ2FrrzuJXZ"
      },
      "source": [
        "! octave --eval 'addpath(genpath(\"./toolbox\")); savepath'"
      ],
      "execution_count": null,
      "outputs": []
    },
    {
      "cell_type": "markdown",
      "metadata": {
        "id": "qhoneFz3itrC"
      },
      "source": [
        "Here we add 3 levels of sketches. This can be done for any amount of levels, so long as the directory names are properly sortable."
      ]
    },
    {
      "cell_type": "code",
      "metadata": {
        "id": "sWLkNDPysfXA"
      },
      "source": [
        "! octave --eval 'feval (\"PostprocessHED\", \"../mat_output/\", \"../hed_output/1\", 256, 25.0/255.0, 10)'"
      ],
      "execution_count": null,
      "outputs": []
    },
    {
      "cell_type": "code",
      "metadata": {
        "id": "mSVWOBIO1Qx_"
      },
      "source": [
        "! octave --eval 'feval (\"PostprocessHED\", \"../mat_output_test/\", \"../hed_output_test/1\", 256, 25.0/255.0, 10)'"
      ],
      "execution_count": null,
      "outputs": []
    },
    {
      "cell_type": "code",
      "metadata": {
        "id": "cmhWAUGMDX3y"
      },
      "source": [
        "! octave --eval 'feval (\"PostprocessHED\", \"../mat_output/\", \"../hed_output/2\", 256, 50.0/255.0, 10)'"
      ],
      "execution_count": null,
      "outputs": []
    },
    {
      "cell_type": "code",
      "metadata": {
        "id": "ZQv_SkdJ1RRD"
      },
      "source": [
        "! octave --eval 'feval (\"PostprocessHED\", \"../mat_output_test/\", \"../hed_output_test/2\", 256, 50.0/255.0, 10)'"
      ],
      "execution_count": null,
      "outputs": []
    },
    {
      "cell_type": "code",
      "metadata": {
        "id": "vOU3B5nwDXng"
      },
      "source": [
        "! octave --eval 'feval (\"PostprocessHED\", \"../mat_output/\", \"../hed_output/3\", 256, 100.0/255.0, 10)'"
      ],
      "execution_count": null,
      "outputs": []
    },
    {
      "cell_type": "code",
      "metadata": {
        "id": "xPRtyNUJ1RqM"
      },
      "source": [
        "! octave --eval 'feval (\"PostprocessHED\", \"../mat_output_test/\", \"../hed_output_test/3\", 256, 100.0/255.0, 10)'"
      ],
      "execution_count": null,
      "outputs": []
    },
    {
      "cell_type": "code",
      "metadata": {
        "id": "Qy7HZZH0zpoi"
      },
      "source": [
        "cd ../"
      ],
      "execution_count": null,
      "outputs": []
    },
    {
      "cell_type": "code",
      "metadata": {
        "id": "8wNNztuUuYtP"
      },
      "source": [
        "import matplotlib.pyplot as plt\r\n",
        "import PIL\r\n",
        "import numpy as np\r\n",
        "import cv2"
      ],
      "execution_count": 98,
      "outputs": []
    },
    {
      "cell_type": "code",
      "metadata": {
        "id": "hdamkuXpzxig"
      },
      "source": [
        "image_num = 1"
      ],
      "execution_count": 117,
      "outputs": []
    },
    {
      "cell_type": "code",
      "metadata": {
        "colab": {
          "base_uri": "https://localhost:8080/",
          "height": 269
        },
        "id": "S4F8fn8LzpJH",
        "outputId": "657aa418-145c-40cb-f5ee-0f768718e4e7"
      },
      "source": [
        "# see how your images look! keep running this to keep sampling\r\n",
        "\r\n",
        "f, axarr = plt.subplots(3,2)\r\n",
        "im0 = np.array(PIL.Image.open('hed_output/0/{}.png'.format(image_num)))\r\n",
        "im1 = np.array(PIL.Image.open('hed_output/1/{}.png'.format(image_num)))\r\n",
        "im2 = np.array(PIL.Image.open('hed_output/2/{}.png'.format(image_num)))\r\n",
        "im3 = np.array(PIL.Image.open('hed_output/3/{}.png'.format(image_num)))\r\n",
        "im4 = np.array(PIL.Image.open('generated_images/{}.jpeg'.format(image_num)))\r\n",
        "axarr[0,0].imshow(im0, cmap = 'gray')\r\n",
        "axarr[0,1].imshow(im1, cmap = 'gray')\r\n",
        "axarr[1,0].imshow(im2, cmap = 'gray')\r\n",
        "axarr[1,1].imshow(im3, cmap = 'gray')\r\n",
        "axarr[2,0].imshow(im4, cmap = 'gray')\r\n",
        "axarr[2,1].imshow(cv2.GaussianBlur(im3, (55, 55), 0), cmap = 'gray')\r\n",
        "image_num += 1"
      ],
      "execution_count": 135,
      "outputs": [
        {
          "output_type": "display_data",
          "data": {
            "image/png": "iVBORw0KGgoAAAANSUhEUgAAAR4AAAD8CAYAAAChMsvrAAAABHNCSVQICAgIfAhkiAAAAAlwSFlzAAALEgAACxIB0t1+/AAAADh0RVh0U29mdHdhcmUAbWF0cGxvdGxpYiB2ZXJzaW9uMy4yLjIsIGh0dHA6Ly9tYXRwbG90bGliLm9yZy+WH4yJAAAgAElEQVR4nOydeWxk933YP7+5D87J4U0Or90lxV1yD65Wa+1aR2XFtoxETSG7Spw0l+OgqY00cYEYaJO2KFo4TdDWMYICcq3KiQOnCeqkQW3BVuVIVnSsltzVklwuj13e9zXDmeHcM7/+Qb4X3hySQy7JfR9gwJnhm/d+8953vu/3+55CSomGhobGYaJ72APQ0NB49NAUj4aGxqGjKR4NDY1DR1M8Ghoah46meDQ0NA4dTfFoaGgcOgeieIQQnxJC9Aoh7gshvnoQx9DQeBhosp0fRL7jeIQQeqAPeB4YA24CPyel7M7rgTQ0DhlNtvPHQcx4rgD3pZQDUsok8BfAiwdwHA2Nw0aT7TxhOIB9VgCjq16PAU+s30gI8UXgiwB2u721sbHxAIayTDabJRQKMTk5STKZxG6343K5MJvNZDIZTCYTFosFnU6HEGLD55VZoZRSfZ5Op4nFYoTDYSKRCMlkEoCCggLKysqQUhKLxZibm0MIQU1NDWazedPxtbe3z0kpiw7o62vkjyMn2wrpdBqdTodOl7+5RCwWI5PJYDAYkFJiNBoxGNaqjGw2u+0xt5Ltg1A8OSGlfAV4BeDy5cvy5s2beT9GJpPhgw8+4A/+4A+YmprC5/NRVlZGbW0t8Xgcq9VKeXk5Xq+XmpoaKisrKS0txeFwYLFYSCQSzMzMMDQ0xPT0NPPz82SzWfx+P+fOncPtdpNIJOjo6OD//b//xwcffMDi4iIlJSX86q/+Ks8++yy3b9/mV37lVzh16hSvvfYaTqdzg3ITQgzn/ctrPDTWy3ZbW9uBHCcej3Pnzh2SySRut5vi4mJcLhcGg2GDgtiJbDYLQCKRwGg0otfr1fdnZ2cxmUxMTEwA0NTUhE6nQ0rJnTt3MBgMnDt3btP9biXbB6F4xoGqVa8rV947VOLxON/5znf4oz/6I5LJJBUVFRgMBiKRCLdu3SKbzWKxWBgdXb6BRSIRpJS4XC7KysoAGBsbY3x8nEgkQiaTwWg0YrPZcLlc1NXVUV1dTWNjI08//TTPPPMMY2Nj/M3f/A0/+tGP+OM//mPKy8t59tln+epXv8p//I//kR/96Ee89NJLh30qNPLHkZBtgEAgQG9vL01NTaRSKd5++22CwSCxWAyTyYTP5wOWZ0KRSAS3243FYqGurg6AcDhMIBAgEAgQiUTU/S4sLOB0OjEYDLhcLqqqqigtLQXA6/WysLBAd3e3qnyam5t5//33d5z5rOcgjMsGlg1wz7F8UW4CPy+lvLvVZ/I948lkMrz22mv823/7b8lms+qyyuPxYLFYKCoqwuFwEAwGyWQymM1mQqEQU1NTzM3NEQwGicfjFBUVcfbsWR5//HFOnz5NWVkZNpsNAIvFQjabJRwOY7VasdvtVFRUoNfreffdd/kf/+N/YDab+Z3f+R1KS0v57Gc/y+nTp/nmN7+J0Whcf87apZSX83YCNA6Evcp2vmc8Ukreeecdampq+OijjzAajeh0OkpKSqioqMDlchEOhwFUE4DJZGJ+fp6+vj5sNhterxePx4PH46GgoGCD0pBSEgwGGR0dJRqNcunSJUwmE7CsnCYmJtRZTm9vLy6XS1VQq9lKtvM+45FSpoUQXwJ+COiBV7e7MHtFCMFmSlNKyc2bN/n6179OLBajrKyMlpYWmpqakFLi8/k4e/YsoVCIbDZLZWUlLpeLWCzG2NgYb7zxBn/+539OWVkZv/u7v8uFCxdwuVyqstrsAiWTSaamphgaGqK8vJynn34aIQT/4T/8B37/93+ff/fv/h3V1dW8/fbbDA8PU19fv6ktSeNoc1iyvRPT09OEQiE6Ojrw+/00NTWpSkGhsLBww+cKCwsxGo2qzVFZXm02UxFCqIopEAjQ1tbG448/jtFoxOv1EggEGBsbo7KykoqKCnp6ejZVPFtxIDYeKeUPgB8cxL4B9Uer/F2tgKampvjX//pfMzs7y8svv8znPvc5vF4vMzMzzM7OUltbS0lJCQBWq5WCggLV6FtdXU11dTXd3d188MEH/OEf/iHNzc08/fTTnDt3jpaWFrxe74axmM1m/H4/8/PzTE9PMzc3h8Ph4OzZs7z11lu89tprGAwGZmZmePXVV/n3//7fq2twTQEdLw5atndienqayclJXnjhhT0ZkisrK7lz5w4+n4+uri5SqRRut5vm5uYtP+PxeKisrKStrY3Lly9jNBqpra2lvb0dn89HQUEB2WyWeDyOxWLJbSCKp+ZhPlpbW2U2m835sR7l/Xg8Ln/v935PlpWVyW984xtyampKxmIxOTMzI2dmZmQgEJBLS0sylUrJdDotM5nMhn2nUin5d3/3d7K1tVW6XC75K7/yK3JmZkYGg0EZjUZ3HFs4HJY3btyQP/7xj+Urr7wif/Znf1ZeunRJ/sIv/IJsbGyU5eXl8ic/+cmazwBtD/saaI+Dk+18EQqF5O3bt2Umk9nXfhYWFuSdO3dkMpmUUspNf1NbMTQ0pG4fjUbljRs3pJRShsNh2d7evmH7rWT72KVMbDdDGB8f56//+q/55Cc/yfPPP4/ZbMZgMFBYWIjP58PlcmG1WjEYDOj1etV9vvqh1+u5du0aX/nKV6iuruaNN97gW9/6FlLKDdNZhWw2SzKZVA3QgUCAvr4+MpkMNTU1pNNpjEYjn/nMZ9DpdHzzm99U194aGrnS3d1NY2Pjvl3mHo8Hv9/PnTt3CAQCu5p1j4yMsKxPwGw2k0gkgOUwknQ6zYMHD3Laz7FTPJuhnLju7m4ikQif//znKSwsXKNQlO12OslCCAwGA8899xy//uu/zssvv8y3v/1tfud3foexsTHS6fSGz0gpWVxcJBqNEo1GuXnzJvfv38dut1NXV4fVaqWkpITPfe5zPP300/T29q7xJGho7IRyc8t5KbMDbreb8+fPMz4+zsLCwp72oShAxVZ04cIFxsdzc/KdCMUDyz/+kZERCgoKqK+vVwP81tuDcsVoNCKlpKysjJdffpl33nmHz3/+8/zZn/0Z09PTRCIR5ufnGRsbY2BggPHxcV5//XW++93v8v3vfx+j0Uh9fT1msxmXy8Xw8DBOp5Pnn3+ehYUFZmZmDuI0aJxQotEoVqsVWHalj4yM7Gt/qVSKRCJBU1MT4+PjdHZ2qgpkK+LxOGazWVU4qVSKwsJC5ufnAVTDtTIj2o6HFkCYb6SUDA4OqlGWgUBgzaxnNwghMBqNlJWVMTAwwNWrV8lms7z55pv8/u//Pn/yJ3+C3+9XlZPRaKSqqor+/n76+/vx+XxcvXoVv9/P3bt3eeyxx3j99dfp7Ozk9OnT2O32nC6OhoZCKBTC5XIByyYFJdZsr0gpeffdd/nkJz9Jc3MzCwsLvPfeewDU1dVRVFREOBxWlVE4HGZkZITW1lZ1H+3t7Zw9e5be3l6KiorWOHt2+s0dO8Wz2ZeSUqrrS4/Ho8YsVFVVbbGXnY9hNps5e/YsBoMBv9+Pw+EgHA7zwgsvEAqF6O7uZmZmBrPZjNFoZGJiApvNxnPPPUdzczOXL19WvQGlpaW89dZbfOc73+Gf/tN/itlsViNDNTRyYWZmhtraWgCCwSCPPfbYvvanBMMqv6dIJMKFCxfQ6/WMjY3R39/P4OAg58+fx2g04nQ6uX79+hq5TaVS2O323Xu0OIaKZyuCwSD9/f1cu3aNRCKBwWDY0hicC3q9npKSEuLxOEajkYaGBi5fvkw2m8VoNHL9+nXsdjvpdJqhoSEGBgYwGAx4PB6uXbuG1+tV3Y6xWIwvfOEL/Kf/9J8QQhCNRhkdHeXMmTN5PAMaJ5lwOIzT6VQjk/d74xJC4HK5CAaDeDweIpEIoVCISCSCzWbD7/dz7do1UqkUFotl0xlMS0sLQgiam5vp6OjgypUrGAwG0un0jr+9Y2njWe+aAxgcHCQQCHDx4kUWFhbw+Xy7zldZjRACu92uJneaTCYaGxsxm80kk0kMBgN2u52FhQUCgQA2mw2n00ljYyPFxcUYDAaEEBQVFRGLxfgn/+Sf0Nrayvvvv8/i4iIffvihttzSyAlluSOEoKOjg5aWlrzst6GhgYGBAQD8fj8jIyOMj4/jdrtxOp20tbXR29tLOp0mk8ls+LzT6aSrqwur1UpxcTHDw8PqymAnTsSMR0rJBx98gMViobGxkcLCQoqLi/dk31mtDIxGIw6HQ13KFRcXE4/HmZubw2AwUFlZidFoxG63U1RUxPz8PH6/X70bKcrLYrFgt9v57d/+bX7jN36DxcVF2traSCQSefNSaJxc5ubm8Pl8SCmx2Wx5kxmz2awqsYKCAp555hmi0SgDAwNcuXJFjX6ORCIMDg5uCDIUQhAMBslms1RXV3Pjxg11FbATJ0LxpFIpbt26RUVFBeXl5VRUVOxpmbV+BqLE9RQUFKgZwEajUTVaFxQUYLFYKCgoUEsGOJ1OTCaTavk3mUyUl5eTTCa5fPkyX/jCF/hv/+2/MTAwwPDwMA0NDXk5Bxonl4mJCWpra9VlTT5ZnTdos9nUJOjVWK1WFhcXN/283+8nHA7jcrloaGigq6uLTCajZgdsxYlQPPPz89y7d4+mpiYsFktelM5qlCQ85bnRaFSDAhX3YjKZVNMnViOEwO12E4vFsFgsvPzyy7z++utMTk7y4x//WLPzaOxIOBzG4XAc2vHWJzHr9fotFV51dbX6XEnCnp+fJ5lMbvs7PJY2nvUMDAwwNzdHfX39ri/QajvRduj1evR6vbr8cjqd6izHZrOp2e+KO381Op1OjXEoKiriE5/4BDqdjg8//FCN/NTQ2IxMJoMQIq8FvvbC+lnQVpw6dQqDwUBPT8+22x17xSOlVL9kQ0MDBQUF6v92su/sxbirRDYrngVlOba6+lsikVhjjEsmkySTSXWb69evU1NTw+3bt9V6QBoam7G4uJjzj/5hkEql1kThOxwOqqqqCAaD237u2CueTCZDT08PXq+XU6dO5exm3K9HaX0ahsFgUL0PkUiEeDy+ZozZbFat32Mymbh27RrT09N85zvf2dc4NE42oVAIp9P5sIehcu/evTV5huFwmMHBQWD5N3X79m0qKytVmd+KY694UqkUo6OjlJSUqFXXdiLfbmxl1iOlxGAwqDlbCkajkVQqpZbM0Ov1XL58GYvFwp/92Z/ldSwaJ4ujpngymcwad7liv5RyuS6VEvc2PDxMX1/flvs5NopnK9d4NBolEAhQVFS0xs24eltF0ay352QyGTKZjBqnsFOuyk7jU/5mMhm10JiUEp1Oh8FgIBQKsbS0pMb8FBUVEQqF9nxMjZPPUVM8SvlTBZ1Ox8WLF5mdnVXNBlJKmpubmZub23I/OyoeIcSrQogZIUTXqve8Qog3hBD9K389K+8LIcQfrzQ76xBCXNrHd8wJ5cesxO2sZ7XSWU02myWdTqvJcspSaK+zodWpHB6PB71eryoy5Vizs7O43W4KCgqw2+1UVlbuS9lp7I+jLtuQW97TYeLz+TYEExqNRh48eIDf78ftdqtOlPLy8i33k8uM5zXgU+ve+yrwppTyNPDmymuATwOnVx5fBP57Ll9mr0gp1Ro4Pp9vzdpzJ2+VMsOJxWIkk0nS6bSqeFYroVwUkfIZxXvldrvx+Xxr2uXMzMxgNBopLS3F5XKpYem5BFtpHBivcURl+6iiRPCvZn5+HofDgclkorm5GSEEJSUl21Zg2FHxSCl/Aqwv2PEi8O2V598G/vGq9/90pfjYB4BbCLG/NNp/GMemAX6w7EWKx+PMz8+TSCR2VBZKbZNYLMbs7CzBYFCd9WQyGVURKc8VDb+dIlqtQAwGA1ardYML9NSpU1gsFqxWKx6Ph5aWliPtsTjpHBXZPu7cu3dvQ9KqEji7FXu18ZRIKSdXnk8BSpjiZg3PKjbbgRDii0KINiFE2+zs7B6HsRxVqdfrGRgYYGpqiomJCaLRKPF4nKWlJaanp4nFYqTTabVGTygUYnZ2lomJCW7evMnw8DDJZJJEIkEikSAUCrG4uEg4HGZ2dpaFhQWWlpZYWloiGo2qtqHVZDIZNbUim82q3jVlNlRQUIDL5VI9YBaLhSeffJKf+qmf2vN31zgQjoxs75fOzs4NN8rV7u+dXN65oJgK1nuThRD4/f4tP7fvyGUppRRC7NowItc1Pdvr8b1eL36/n4GBAW7evEkoFMLhcKgneGRkhCeeeAKLxUI8HicYDBKJRFRjb3d3NyaTSXV/6/V6QqEQsVgMm83G3NwcOp0Ot9utxu44HA41cFApfKQoI8UIrtTqUS6M2+1ek7Sq1+spLCzky1/+Mv/zf/7PvX59jQPkYcs2oCZdKjPj1TbBVCpFNpvFbDYTjUYJhUIkk0lqamqQcrk9zWYlZLq6urh69SpjY2PE4/FddYdYj9Jba7fsVfFMCyHKpJSTK9NNZTF36A3PzGYzly9f5ubNm7z11luMjY1hsVhwu93o9XoikQg3b95UFYRer1eVQCgUwmAwEA6HmZiYwG63U1BQQDQaZW5uTi3YpZQ21el0ZDIZAoEAJSUlal0dZem2WuEoKLWalWx1xdAMy4l5Z8+ePcjTo7F7joxsA5SWljI1NYVer+fBgweqF9RkMlFWVsbU1BSJRAKr1YrL5VJzpJaWlrBarRuM00q6j2LD7O7uZnZ2lkgkgs/no7a2Vg2MzZW9mAv2utT6W+CXVp7/EvB/Vr3/z1Y8AFeBxVXT1gNBp9Px9NNPA8u2HrPZTFVVFc3NzdjtdnQ6nRpJXFhYqPYTMhqNuFwuKioqWFxcZH5+nlgsxtLSknrnmJubU+ufmM1mstmsmr1769YtAoEA8XicRCKhfi4aja6Z2SjudGUqmslkVIO2koKhcaQ4MrINUFxczOzsLLFYjOrqaj7+8Y/z8Y9/nEuXLjE5OUk0GqW2tpbGxkZOnz6tut4XFhaor6/n3XffXXMjFEJw7tw5urq6mJub48knn+TcuXO0trZSWVnJ1NTUvsqqplKpnLbLxZ3+XeB9oEEIMSaE+DXga8DzQoh+4BMrr2G539AAcB/4JvCbux/67qmrq6OyshKAkpISDAYDS0tL3Lt3j2w2S11dHalUiqWlJcLhMF1dXWqzv/LyciKRCGNjY+h0OoLBIKlUimQyyeDgIEtLS9jtdmDZdT80NMTw8DBvvPEGP/jBD+jq6uLWrVvcu3eP7u5uEomEalRevdRa/V40Gs35AmkcHMdBtnU6HWazGbvdjtvtVt8fHh7GarVy8eJF2tvbCYfDSCnp7OwElrPGPR4PNpttQ2MBl8uFyWTiqaeeUot8mUwmrFYrZWVlPHjwYI0Nc2hoKOd4s66urjVR+1ux41JLSvlzW/zruU22lcC/2PGoecZqtVJYWMjQ0BDJZBKfz0c8HqegoECN04FlO4vL5WJycpLu7m5eeOEFysvLyWQyLCwsMD4+TjQaZXh4mIWFBYQQTE5OMjk5qRqPU6kUs7Oz6PV6Xn/9db73ve+h0+nweDxUVFSsKXOhTGfXBz/q9fpNCytpHC7HQbZhWb4Vm6OCxWJRS/Q6HA5KS0vX1MdRbnRNTU20tbXR2tqKyWTiwYMHFBUVYbPZSKVSazyvSgT+9evXGR0dJRKJ4HQ6VfNCLoGMNTU19PX17Vis7ESUxUilUszNzal1l/V6PU1NTdTX19PT00NnZyclJSUYjUbi8TjRaFS9kB6Ph6amJrV1jU6nw2q1IoQgEAiQTCYJBAIYDAbi8TjpdFp12adSKdXGMzk5qT5fHbS4Ve5YIBDQXOkaOREMBrFarfT39wNw9epVSkpKaG9vZ35+HqfTqZZpWY/FYqGmpka14RQWFjI6Osri4iLj4+ObxpEJIaioqKCsrIxQKER7ezvPPvtsTmN1uVx0dXXtuN2JUDyKMfjs2bM0NzdTXFxMRUUFfr+fCxcuqIbdxcVF2tvbSafTnDt3joqKCtXOYjKZCIfDZDIZTp8+zfz8PHfu3GF+fh6bzUY8Hkev15NMJrFardjtdrxer1ok6datW6pCU2Y5m/VZh2Vb1P3796moqNhQv0dDYzPKy8upra1VFYXRaOTq1atrttmqhIZihoDl/uler1d1cqyumROPxwmHw2s6RhQWFrK0tJT3shwnQvGEQiESiQQvvvgibreb6elpRkdHVXuLUif5wYMHdHd3U11dTWtrK06nE51Op558nU6n9rwaHx9nfHyckZERIpEIsVgMo9FIeXk5Z86coaGhQS0NOTU1xa1bt9R4IYXNXJlKkKLiylxdxkNDYz2KV9VqtRIMBuns7EQIobrZ/X6/GgHf09OzrZdU+fxWGI1G/H7/Brk1mUx573x7IhSPwWCgqqqKJ598ErvdztDQEMFgECV4S6/Xs7i4SDAYxGQy8fTTT3Pq1Cm1OJcS0FdQUIDVasVisahxOT6fj3Q6jd1up6SkhIqKCioqKvD5fGoL1+7ubmw2G9PT0wSDwQ1BW6uXXtlslkQiweLiopYuobEjq2XJ7XZz/fp1tbyKw+FQHSIfffQRPp8Pj8ez5b7cbjfXrl1b4+hQ9r9dfXKv18vU1FROvbxydcOfCMWjxObYbDYKCwtxOp2EQiF6e3uZmZnBYDBQU1ODy+Wir6+PM2fOrOmIqJx0u92uVhIsLy/n/Pnz6PV6zGaz2j9LWbYpJ9hms1FdXU19fT1TU1OMj4+rhmjlr4LiLevv71ez2LUkUY3doBiAV3u43G43Tz31FO++++6On19vTM5FUTidTu7fv5/T+ILBYE62yxOheDKZDNFolHQ6rboGfT4fDoeDWCymRjG//fbbwLLLfXUnCOWvUr7CaDSqBuadyk7qdDoKCwupra3lww8/ZHx8XO1xrcyalGTUbDbL4uIid+7c4dy5cyQSCWKx2MGfII0Tz+qwj3xjMpnUejub1VEOBoMYDAYKCgoYGBjIqYHBsanHsx3JZJLx8XGGh4fXzDDMZjMFBQVkMhk6Ozv527/9W8rKyjZtfaPYXpSoTiXoLxejmslkorCwEJ1Op7ohE4mEmh82NTWlesamp6cxGo1cuHCBSCSS851E49FEkdOdZsbKTP6gcLlcm3aaGBoaYmRkBLPZrAbH5mK3PBGKx+v1UlBQwAcffLDBbiKlJBQK0dHRwcLCAufPn9/Q6E9ZFindFJXZU661efR6vVr8fXp6moWFBaLRqFprua+vT71T3L17l1OnTuFwOBgYGOCVV17Jz0nQOJEIIXA6nVu2l4FlL2kqldr2By+lzKnR3lb4fD61sNfMzIw6Ux8dHeXcuXMYjUaGhoaoqakBlkuiKs0CN+NEKB673Y7P56O/v5+lpaU1/1P6Ond0dFBTU0NZWdkGY+/qKoQLCwvMz8+TSqV2VRTMZDJhs9nU2ZfiBUgmkywsLJBKpRgaGqKvr4/a2lri8Thvv/02N2/ezN+J0DiRKAnOWzExMbFtCQpY/h3cv3+fsbGxPY2hoKBAjYCempradDwTExNUVCwn7Ash1lQqXM+JsPGYzWaam5u5ffs2CwsLqptcUSxKKYz6+npmZmZwuVxqTE4oFCIYDKq1YiORCFarVW3Ml6sBzmAw4HK5CIfDTE5OcuHCBYxGo5rD9ZOf/ITe3l4KCwtxuVwMDQ3x93//90xPTx/CGdI4zuzkVRobG+PJJ5/cdh9KY8q9elIVDy4sV9hUDMgmk4nx8XE1b0z5reykLE+E4tHpdNTW1vK9732P4eFhysrK1KTOeDxOb28vdrudyclJ3nnnHRYXFzEYDIyOjvLgwQO1CJjVaqW+vp7Gxka1CNjqBM+tUDLQlanu9PS0+lm3283HP/5xRkZGaGhoUO9Mb731FuPj4xQXF+/5LqTxaOBwOLa0BYbDYebm5njvvffUwnLBYJCOjo41N8xYLEY8HufSpb1VbF2d5FxV9Q9J+hcuXGBsbIympqY1wbCTk5PbzsKOreJRTqqyHDp37hyxWIyOjg7VhpLNZhkcHOTu3btcuXKFdDrN/Pw8nZ2dagkMJbN9bGyM2dlZCgsLqaqqUnNUlGTO1WVMN8NqtVJSUsLk5CTj4+Pqks9isXD27Fk1sCsWi/HRRx9x48YN0uk0v/7rv86Xv/zlAztPGscfk8m0ZVJxd3c3n/70pzGZTPT09NDb26sW4VIKcUWjUT766COeffbZfVVDqK6uZnh4mLq6OvU9s9lMfX39hm2Hh4f52Mc+tuW+jp2NZ/3SR3leU1NDQUGBmnk+OTnJ4OAg9+7dw2Qy0drayvPPP4/f78flcuFwOCgrK1O9Xna7nbNnz9LY2IjT6USv16tdQRVP11YoM5szZ85QU1PD4uIigUAAQPWMKX8NBgPj4+MMDg5y6tQpXnrppYM9YRrHHkXm1y9dlDpQFosFnU5HKpWioaGBs2fPUlNTo9aPeuutt6ipqdl3CZaKigrGx3cuQRQOh7HZbNuuFI6d4tkKn8/HE088QW9vr9pepqenh4mJCTUvpaKigqamJnV9OjMzw8zMDDqdjtLSUqqqqrDZbKobXCn6vlP3CSEENptNrYsC0NHRsWmHACkl9+7dIxKJ8Ju/+Zs7NrfX0IDlIMHVxdMVD9VqV/v58+fVRgIKRqORz3zmM2vytfaKkl60ne0mm83umLoBx2yptdVSR4nmbGlp4caNG2qx9unpaTVPq6urS7XrdHV1kc1mcblcZLNZhBB4vV7OnDlDIpHA5XJhtVoB1IjlnTxcStCi3+/H5/MxMDBAPB5Xg7qU8PTZ2Vk6Ojqora3lp3/6p/N7gjROLDU1NfT09OD3+5FS8s477/BTP/VTqqt9u1SJfLbHqa2tZXBwcENxd4VgMIjFYtkx+flYKZ7tEELQ3NzM0tIS/f39PPbYY5SUlKjVB2/cuEFbWxvhcJiFhQXC4TDZbFbtg67T6XC5XJSVlVFdXU1dXZ2aClFcXLxjIKHSWcLtduP1epmcnFyzLlciP/v7+xkZGeHFF188Uo3aNI42NpttTXV5W/4AACAASURBVJR7VVUVBoMBr9dLV1fXGnf3ZijtZ3w+n9rlVom52Q3K8m0rZmdnKSoq2nE/OyoeIUQV8KcsV9uXwCtSyq8LIbzA/wJqgCHgc1LKgFhWr18HXgCiwC9LKW/tOJI8cObMGTweDz/60Y9oaWnhwoULBINBAoEA4XCYVCqlpjA4HA7VG2WxWNbYcBYXF5mYmKCqqgq73a4Wed8JvV6P1WpV+6ivvkBSSmKxGG1tbcTjcZ5//vkj1ajtUeQ4ybbSs01JW1AKrFdWVlJcXEwsFiMWixGNRikrK1PtOUrrbKVKw8zMDA6HY9sZ0n6YnZ3l1KlTO26Xy4wnDXxFSnlLCOEA2oUQbwC/zHLjs68JIb7KcuOz32Vt47MnWG589sSevsUuKSkp4ROf+ASvv/46AwMDnDt3DqfTqWalK4FPS0tLTE5OkkgkVIWi0+mw2Wy43W6Kioqoq6ujvr5eLRqfC0qx93Q6jcFgWNPiJpPJcPfuXX74wx9SXV2dUz6LxoFzbGQboKGhgZ6eng3V/ZTKgg6HA71ez507d9TZttFoxGw2Mzc3h8PhoLy8fNu2M/thfn4+599LLqVPJ4HJledhIcQ9lvsJvQg8s7LZt4G3WL44auMz4AMhhFup2r+H75ITiv3FaDTyMz/zM/zVX/0V9+7do7GxUQ01b2lpwel0Mjg4SFFREWVlZao3KhaLMT4+jsFgwO/309jYSG1tLcXFxRvSK7Ybg5J2kUwm13gQlFYjf/mXf8no6Ci/93u/py2zjgDHQbZX43a76erq2tRpcerUKdrb27Hb7QghKC0tpaysjIGBARYXF6mpqaGiomKN4XkvKDfW9aRSKe7fv8/jjz+e0352ZeMRQtQAF4Eb7L7x2ZqLI4T4IsutYPOqgVtaWqirq+Odd97h4x//OFNTUxgMBmprayksLMRqtTI7O0t5eTnl5eU4nU61hKnH41HzvpQSGLmiZMiPjIyQTCbXrLez2SzDw8PcvHmTCxcu8OKLL+Y8i9I4HI6DbCsFwEKh0IbSE0ajkdbWVrUouzLTqaqq4ty5c3mrIKgUIFvP+Pg4paWlOR8n51+WEKIA+N/Av5RShlZr3L00PttL07PNNP16lKDAP/3TP1VjeMxms1oQ3ufzMT8/r5YuNRqN6HQ6NcZmL3YXxXA8Pj7O3bt3CYfDatNAWFZKw8PDBINBfumXfkmb7RwxjoJs54oSS7NZzRuj0ahWxVTIpy1HqTO+WTzQ7OzsrnrE5aSehBBGli/Mn0spv7fy9vRKwzOOQuMzBZ1Ox4svvkg6neb73/8+BoNBVSpWq5Xi4mJOnTpFWVkZdrtddf0p1Qj3gtJ54vbt2wSDQaLRqNoBYDVWq5ULFy5oRuUjxHGSbYCioiK179thMjQ0RFdXF+FweEMWvJKatJtlXC59tQTwLeCelPK/rPrXkWp8tprGxkY+9alPcePGDaLRKF6vV53VKNZ9pQvodrFBuSiIdDqtFvcaHx+nsrISnU6HxWJR7wyZTIapqSm1BY7G0eA4yjZAfX39odZxCgQCTE1Nce7cOSKRCA6HY83/lVi43ZDLjOca8IvAPxJCfLTyeIEj1vhsNWazmV/7tV8jnU7z5ptvrikTmU8ymQyJRIKZmRkCgQDNzc1cvnxZLc6t2HHi8Th3797l0qVL+Hy+AxmLxp44drINhzvricfj9Pf309raihCCSCSyYcYzMDCwab7WduTi1fp7YCt1duiNz9bbebaKKD5//jwvvfQSP/zhDwkEApSWlq5pdJbLcbZDScNQem21trZSVlam5nglk0m1Ydro6CgzMzN89rOfxWKxrNmPtux6eBw12d4NyqynqanpwI4Rj8e5desWLS0t2+Z5zczM7FrxHMtcLSX9YH1P6NU/YpPJxBe+8AUAXnvtNbVUxW6Ke2117HQ6TTQaZWFhgYWFBXw+Hw0NDRQVFWG1WnE4HPT09DA4OMj4+Dh/+Zd/SV1dHVeuXNk0wVVDY7cUFRWRzWa3Lba1H5RyMpcuXVozw1ldiRCWKxCWl5fv2kt7LBXPerb6ATc0NPCv/tW/4s033+T//t//y8zMjFphcGFhgWAwyNLSEolEQi1Tmkgk1NfpdJpUKkUsFiMcDhMIBJienmZqaoqJiQm1frLX61UzhI1GIy0tLQwPD/Nf/+t/5e2336atrY1Pf/rTay6gpnQ09ktTUxM9PT1571SSzWbp7OykoaFhwwy9uLiY+fl59ZjDw8NUV1fv+hgnJldrMwwGA5///Ofp6uriW9/6FgaDgbq6OvR6PSaTCbvdrj6UEhjwD+HpOp2OZDJJNBpVc74SiYRaa6eiooLCwsI1lfd1Oh1nz56ltLSUH/3oR6TTaerq6rh48eJDOQcaJxedTkdjYyPd3d2cO3cuL/ucmZlhcHCQM2fObFA6yjHr6+vp6+vD4/HsKrJ/NSdC8WwX32M2m/nKV77C4OAg3/jGN3jmmWc4ffq02hnC5/Nhs9kwGo1YLBYMBoMaf6PX69UuokqO19LSEnq9nrq6OiorKzEajapVXxmD1+vlZ3/2Z/nGN75BMpnkt37rtzbEXeQSk6ShsRNer5dwOExHRwctLS17lqtMJkN3dzcGg4GLFy9u2sZG2c7n83H79m1sNtuebUwnQvHA9sbgiooKvvGNb/DZz36W0dFRKioq6O/vJxaLqfWVlZmPzWZTi7anUik1/0qpRVJdXU1TUxMej0fN1FXqOytjMJlMPPXUU3z3u9+lqKiIkpKSfduWNDS2orq6mvfff59EIkFfXx/BYBCHw4Hb7d6080QkElkTWR+LxUgkEjQ1NeH1erc9Vn9/PyUlJRQXF6u/gb1wYhTPTpSUlFBeXo7JZOKll15ienqazs5OBgYGNvTTymQyag1lpUSqEulcXFyMw+FQa/QoJ14pFpZOpwmHw9y6dYtkMonL5WJwcBCTybShXICmjDTyhd1uJxqN0tzcrLY4DgaDTE1NbdhWqb6pYLVa1QaWuRCPx9WqnTMzMxQUFOw6B+yRUTzJZJJgMMgTTzzBmTNnaGpq4sqVKwwODrK0tITD4cDlcqlJdsqUVXEjSilVV7nS/nj1LEdROvF4nHv37vHqq6/y3HPP8aUvfYl4PE5fXx8Wi2VD8JWGRj4IhUJqKo5SWyqXVsK7pa6ujtu3b3P+/Hl1FTA8PLxlYbCtOBFerVy4e/cug4ODagcKk8mEw+HA7/dTXFyM0+nEarWqRd0VJQP/MDMRQqzJ51pt11Gy0+fn5/nrv/5rDAYDX/7ylykuLqa4uBij0cj777+/bdlIDY294vf785YIuh3ZbJaamhrV8Ox2u3Oqv7MecRSm+0KIMND7sMeRB3zA3I5bbaRaSrlz2TaNY4cm25vL9lFZavVKKS8/7EHsFyFE20n4Hhp5RZPtTXhklloaGhpHB03xaGhoHDpHRfG88rAHkCdOyvfQyB8nRSby+j2OhHFZQ0Pj0eKozHg0NDQeITTFo6Ghceg8dMUjhPiUEKJXCHF/pYfRkUQIUSWE+DshRLcQ4q4Q4rdW3vcKId4QQvSv/PWsvC+EEH+88r06hBCXHu430DhMjotcw0OS7dVFtQ77AeiBB0AdYALuAE0Pc0zbjLUMuLTy3AH0AU3Afwa+uvL+V4E/WHn+AvA6yxXurgI3HvZ30B6HJivHRq5Xxnvosn0gM55daPsrwH0p5YCUMgn8BctN044cUspJudKuVkoZBlY3f/v2ymbfBv7xynO1+ZuU8gPArXQu0Di+5Cjbx0au4eHIdt4VjxBCD/wJy+1em4CfE0JsVbRjqwZpR5p9Nn/TOKbsQraP7bU/LNk+iBnPsdL2u2V987fV/5PL81AtPuHkosl2vo61smbLG0KIl4BPSSm/sPL6F4EnpJRfWrfdF4HfBsrtdruzsbExr+PYjHQ6rfbWyhdKdUIlk91oNG4oBSnl9lXh2tvb56SWJHrk2YVsfw3450C/3W5vPa6yrZBKpchmsxgMhl2XOd1Kth9akqiU8hUhxKtAX2Njo7Otre1AjhOPx7lz5w7JZBK3201xcTEul2tNidNcUQpcJxKJNQomm80yOzuLlJLZ2Vl0Oh1NTU2qEHR2diKE2LIurhBieB9fUePo8W+AzwGfbWxsHDiusq3cLGdnZ5mcXF5xrZftgYEBotHormX7IBRPzm1epZRpIcSXgO8fwDgIBAL09vbS1NREKpXi7bffJhgMEovFMJlManO9dDpNJBLB7XZjsVioq6sDUDtLBAKBNaUiFxYWcDqdGAwGXC4XVVVVlJaWAlBWVsbCwgLd3d3qBWpqauL999/fVV8vjSNJTrK9Sq5/eFADOQzZLi0t5fTp0xQVFanVM9fLtlJ2dbeyfRBLLQPL7rjnWL4oN4Gfl1Le3eozly9flvm+K0gpeeedd6ipqeGjjz5S6yaXlJRQUVGBy+UiHA4DqB0ZTSYT8/Pz9PX1YbPZ8Hq9eDwePB4PBQUFG06slJJgMMjo6CjRaJRLly6pRbIXFhaYmJhQ7wS9vb24XC5VQa1GCNEuT0DphJPOoybb8Xgcq9W64fj5kO28z3jWaXs98Op2F+agmJ6eJhQK0dHRgd/vp6mpaUPl/MLCwg2fKywsxGg0IoSgpqZGnYJups2FEOrFCwQCtLW18fjjj6u9tgKBAGNjY1RWVlJRUUFPT8+mF0fjePCoyfZmSgfIi2wfiI1HSvkDlvtMPxSmp6eZnJzkhRde2NPSprKykjt37uDz+ejq6iKVSuF2u2lubt7yMx6Ph8rKStra2rh8+TJGo5Ha2lra29vx+XwUFBSQzWaJx+Ob9ivSOB6cNNkWQnDp0qVtWxRvxr5l+2FHTUopaW1tlfkiFArJ27dvy0wms6/9LCwsyDt37shkMimllDKbzeb82aGhIXX7aDQqb9y4IaWUMhwOy/b29g3bA23yCFwH7fFoyvZuWP2Z/cj2ibN0dnd309jYuG8jrsfjwe/3c+fOHQKBwK6apI2MjLB8zpcbCiYSCQAKCgpIp9M8ePBgX2PTeDQ5KNneDe3t7eoSbT+yfaIUTzabJZlM5m0p43a7OX/+POPj4ywsLOxpH6v7bgFcuHCB8fFNnXwaGltyVGQ7lUqpz/cj2ydK8USjUdUglslk1FnHXkmlUmqHxfHxcTo7O9WTvBXxeFztu6Xso7CwkPn5eQDVuLffsWk8WqyW7XyQD9kG9izbR6XLRF4IhUJqE7Pe3l7Ky8txu9173p+UknfffZdPfvKTNDc3s7CwwHvvvQcsNzYrKioiHA6rFywcDjMyMkJra6u6j/b2ds6ePUtvby9FRUVr+nBpvdM1cmW1bOcDKSU3b97k2Wef3bNsw3I/r56enl3L9olSPDMzM9TW1gLLsQYNDQ372p/RaMRms6knMhKJcOHCBfR6PWNjY/T39zM4OMj58+cxGo04nU6uX7++Jqw8lUpht9s1j5bGvlgt2/nAZDJx/fp19bXX6+XatWtkMhkGBwdzkm1gz97aE6V4wuEwTqdTjd7cbV7JeoQQVFdXq68jkQihUIhIJILNZsPv93Pt2jVSqRQWi2VTLd/S0oJOp6O5uZmOjg6uXLmCwWAgnU5viL3Q0NgKRbbzyXoXutIp9/Tp05w+fZqnnnoqp1n5XmT7xNh4lCmhEILOzk5aWlrysl+/36+efL/fz8jICOPj47jdbpxOJ21tbfT29m65Plamx1arleLiYoaHh3E4HGpkqYbGTqyW7cMk1+PtRbZPzIxnbm5OzU9paGg4kCVNQUEBzzzzDNFolIGBAa5cubJphOhWVFdXc+PGDex2O+l0Ou/j0ziZrJbto8puZfvEzHgmJiYoLy8HyKsRbj02mw2fz8fFixd3/VkhBA0NDQSDQTXbV0NjJ1bL9lFlt7J9YhRPOBzG4XAc2vF2G2Ku4PF4sFgszM/Pqwl8GhrbcdiyvVd2I9snQvFkMhmEEMem5MSpU6cwGAz09PQ87KFoHHFOqmwfj2+zA4uLiwe6vMo3DoeDqqoqgsHgwx6KxhHnuMm2x+Ohurp6R9k+EYonFArl3dV4UEgpuX37NpWVlWQymR2jRTUebY6TbCv4/f4dZVtTPIeMlMsFloxGIyMjI0xPTz/sIWkcYY6TbCsIIXaU7RPhTj8uF2d2dpZUKkV1dTVCCBobGxkZGXnYw9I4whwX2V6NEILHHnts25ytHWc8QohXhRAzQoiuVe8dqba9xyXv6f79+/h8Pvx+P7Bcn1mpZatx+GiyfXB4PJ5tx53LUus14FPr3vsq8KaU8jTw5sprWG50dnrl8UXgv+9yvCeW+fl5HA7HmlByr9e753IbGnnhNTTZPhBqamq2DQHYUfFIKX8CrP91aG17d8mDBw947LHH1rxXUFDA6dOnH9KINDTZPjiMRiMFBQVb/n+vxuV9tzYVQnxRCNEmhGibnZ3d4zD2T2dn56HUxrl48eKmSavHyVX6iHBiZPsoh2vs26u1Uld1179cKeUrUsrLUsrL+7VzrE9My2az6iORSBCLxchms0QiESYmJhgaGlLGQDAY3HYtOjo6ytTU1L7GB3uPdNZ4eBx32e7q6tpirw+fvXq1poUQZVLKyZXp5szK+zk388snpaWlTE1NodfrefDgAaHQcttnk8lEWVkZU1NTJBIJrFYrLpeLkpLlm9jS0hJWq3VLA56imGZnZ5mdnSUSieDz+aitrV3TaVHjRHFiZNtisRxZ4/ReFc/fAr8EfG3l7/9Z9f6XhBB/ATwBLK6ath4YxcXF3L9/H6/XS3V1tVp1MJVKcevWLWKxGKdOncLtdq9Zdy4sLFBfX8+7777LtWvXNlygrq4u5ubmePLJJzGbzaRSKTKZDFNTU2QymTW1ejRODI+EbD9scnGnfxd4H2gQQowJIX6N5YvyvBCiH/jEymtY7jc0ANwHvgn85oGMeh06nQ6z2Yzdbl9T6nR4eBir1crFixdpb28nHA4jpaSzsxNYjrD0eDzYbLY1bVxhebZjNBp56qmn1CJfJpMJq9VKWVkZDx48IJPJqNsPDQ2pdyON48GjLNs9PT05R81HIpE1Rd7zwY4zHinlz23xr+c22VYC/2K/g9oLVquVWCyGzWZT31OmmmazGYfDQWlpKUIIgsHgml7PTU1NtLW10draislk4sGDBxQVFWGz2UilUmsS9IQQ6PV6rl+/zujoKJFIBKfTSSaTIRAIHLtgr0eZR0W27927x8WLF8lkMmtkO5lMYjab1X0qs6JsNsvY2JgavJhKpTAYDHmd4Z+IyGVYtuBbrVb6+/sBuHr1KiUlJbS3tzM/P4/T6SSdTm9q5LVYLNTU1Kg2nMLCQkZHR1lcXGR8fHzTwkZCCCoqKigrKyMUCtHe3s6zzz67q/HupxC9xqPDfmVb6XGu0+kORbZz4cQoHoDy8nJqa2vVk2k0Grl69eqabbYqM1BZWak+LywsxOv1ks1mN9SPjcfjhMPhNVX1CwsLWVpayrl0QTabpaura02xbQ2N7VBkW1ne70a2FYUkhKCwsJDCwkIymcyByDbkdlM9EYpHaYtqtVoJBoN0dnYihFBdkX6/H7/fTzqdpqenh7Nnz265L+XzW2E0GtfUYVYwmUy7Kuyl9dXSyIXVsg1sqQBykW2FYDBIV1fXBhnMh2znelM9MYpHwe12c/36dbLZrFq5TafTEQwG+eijj/D5fHg8ni335Xa7uXbtmnqBlQsPy3eMrbwDXq+Xqakpysp2DmY9ah4GjaNLLjeoXGVbQfmNHJRs5zLmE1EWYz2KAdjtdqvxNm63m6eeeiqnXtHrjck6nQ6dTretwnA6nRu8B1sRDAa1iGWNvLEb2V7Nw5TtE6l4tmJpaQm73X4g+zaZTEgpc5qSDgwMUFdXdyDj0Hg0OW6yfSIUjzJN3Ckuoa+vjzNnzhzYOFwuF4uLixveHx4eVt/PZDLEYrFtE+g0NBSOumyvZjeyfWIUj9Pp3PbEJBIJUqnUgf7gfT4fc3NzG94fGRlRSwQMDQ1RU1MDLBd5UnJrNDQ246jL9upE1NWyvRMnQvHAcrxCPB7f8v+59iZKpVI5r2fXU1BQsONnJyYmqKhYTmpOp9NaR1GNHcmXbO+HrWS7s7NTnY2tlu2dODGKx+v1Mj8/v+X/x8bGcjopQ0ND2+5nO8xmM4lEYsP7JpOJ8fFxPvzwQ6LRqGrIs9lsRKPRPR1L49EhX7K9H3Yr2ztxItzpsFw+4P79+5v+LxwOMzc3x3vvvUdLSwsul4tgMEhHR8eaExWLxYjH41y6tLeqlkq9nUwms6b2zoULFxgbG6OpqWlNiPrk5GROLkqNR5vdyjbAnTt3NuQOrv7/btmtbA8MDFBcXLzl/k6M4jGZTFsmsnV3d/PpT38ak8lET08Pvb29CCHUwEKAaDTKRx99xLPPPruv2jnV1dUMDw+vseybzWbq6+s3bDs+Ps7HPvaxPR9L49EgV9nu7e1VZbuoqIjm5uY12+63KeBuZHtiYmLb3K4Ts9RSrP/r18LZbJZkMonFYkGn05FKpWhoaODs2bPU1NSg0+nIZDK89dZb1NTU7LtgV0VFBePjO5dpCYfD2Gy2TasSamisJlfZLi0tpbGxcY1sr37sl3zK9olRPLAcSDUzM6O+Vgy3q92R58+fx+Vyrcn0NRqNfOYzn1mTr7VXdDodJpNpW2NgNpvNObxdQwM2yrYiX6tl2+Px4HQ618h2PsmnbJ8oxVNTU6NeHCkl77zzDtlsdkd3JOQ3jaG2tpbBwcEt/x8MBrFYLGvWxBoa27FatgFu3LiRs2znk3zJ9omx8cCylygWi6mvq6qqMBgMeL1eurq6dnR3K+1nfD6f6m3KNS5hNcrybStmZ2e1floau2K9bF+4cGHPsp1MJikrK9vTMj9fsr2j4hFCVAF/ynK1fQm8IqX8uhDCC/wvoAYYAj4npQyI5anD14EXgCjwy1LKWzuOJA/odDqMRiPJZBKTyaQa1yorKykuLiYWixGLxYhGo5SVlan2nFQqxfT0tFrtbWZmBofDkVPC3V6YnZ3l1KlTB7Jvjdw5zrKteKf2ItsulysvNp/NyFW2c5nxpIGvSClvCSEcQLsQ4g3gl1lufPY1IcRXWW589rusbXz2BMuNz57Y07fYAw0NDfT09NDS0rLmfaWyoMPhQK/Xc+fOHdVTYDQaMZvNzM3N4XA4KC8vV71d+WZ+fl5NXtV46DySsl1VVbXZ7vfNbmQ7l4Z+k4pWl1KGgXss9xM6ko3P3G43i4uLm6bmnzp1Si3pKISgtLSUixcvqnVpa2pqaGlp2bfSMRqNm1Z2S6VS3L9/n6ampn3tXyM/aLK9e/Il27uy8QghaoCLwA123/hsTUV+IcQXWW4Fm9fZhVIALBQKbQiWMhqNtLa2qoFVyt2gqqqKc+fO5W36ub4XksL4+DilpaUHNs3V2DuabOdGvmQ759EIIQqA/w38SynlmpDIvTQ+y2fTs/VsF29gNBrV8o9OpxOj0YjH48nbhZFSkkqlNo0H0ozKRxNNtnMjn7Kd04iEEEaWL8yfSym/t/L2tDLNPAqNz1ZTVFREKBTaVSnSfDA0NERXVxfhcHhDpnA2myUejx9YjIXG3tBkOzfyLdu59NUSwLeAe1LK/7LqX0rjM9jY+OyfiWWuckiNz9ZTX1+/ZX7LQRAIBJiamuLcuXNEIhG1DIZCNpvVSp4eMTTZzo2DkO1cZjzXgF8E/pEQ4qOVxwscscZn6znMO0M8Hqe/v5/W1laEEEQikQ13hYGBgU1zWjQeKpps54BOp8u7bOfS0O/vga3U2ZFqfLYe5c5w0F6kpaUlmpqats3zmpmZ0RTPEUOT7dzYKaN9L7J9ot0rRUVFZLNZFhYWDvQ4hYWFa+4C66u1jY6OUl5ersXuaOSNw5Lt9eRLtk+04oHlFq676ROdK0r/oM1iKoqLi5mfn1ePOTw8nNf2rxoacHCyvR35ku0Tr3h0Oh2NjY10d3fnbZ8zMzPcvHmTioqKTY1qOp2O+vp6+vr6mJ6e1iKVNQ6Eg5DtXI6ZD9k+8YoHlktHOhwOOjo6gL138cxkMnR2djI/P8/Fixe3zeUqLi5maGiIRCKhRSprHBj5ku3dfC4fsn2istO3o7q6mvfff59EIkFfXx/BYBCHw4Hb7d60On8kElmT7RuLxdQT7fV6dzyeEILi4uK8BnBpaGxGPmQ7k8nQ2tqaUyG8fMj2I6N4AOx2O9FolObmZrXFcTAYZGpqasO2DodjTT1kq9WK1WrNOV4hHo+TyWSw2+3MzMxQUFCgBQ9qHBgPS7b3yiOleEKhEE6nE1heq7pcrgNrJXzv3j2am5vVqm3Dw8M89thjB3IsDY14PH5osj0yMqLK9l55pBRPc3PzoRl5z507p05b3W73gbWX1dAAuHjx4qHJdj46loq9GqPyiRAiDPQ+7HHkAR+wsd3izlRLKbXs0ROIJtuby/ZRmfH0SikvP+xB7BchRNtJ+B4aeUWT7U3Q3C0aGhqHjqZ4NDQ0Dp2jonheedgDyBMn5Xto5I+TIhN5/R5HwrisoaHxaHFUZjwaGhqPEJri0dDQOHQeuuIRQnxKCNErhLi/0sPoSCKEqBJC/J0QolsIcVcI8Vsr73uFEG8IIfpX/npW3hdCiD9e+V4dQohLD/cbaBwmx0Wu4SHJtpTyoT0APfAAqANMwB2g6WGOaZuxlgGXVp47gD6gCfjPwFdX3v8q8Acrz18AXme5wt1V4MbD/g7a49Bk5djI9cp4D122D2TGswttfwW4L6UckFImgb9guWnakUMes+ZvGgdDjrJ9bOQaHo5s513xCCH0wJ+w3O61Cfg5IcRWRTu2apB2pNln8zeNY8ouZPvYXvvDku2DmPEcK22/W/Ld/E3jWKHJdr6OtbJmyxtCiJeAT0kpv7Dy+heBJ6SUX1q33ReB3wbKAWdeB7FxVIBEp9dhsRdgc7mRGUk2kyUjs8hsFp0QyJVyJNksk7J9qgAAIABJREFUSJlh+dQIpBAIIf5hfaozIHQ6dEKgEwKyaTLpJAaThQKHh0wWUskY2WwWvU7P4uwY6XiMbSrjzkktSfTIswvZ/hrwz4F+u93e2tjYuO9jSynJZDKk02kSiQTRaJRYLEYsFiOVSiGlxGAwYDKZMJvNGI1GDAYDOp1OrbMjVuR49T6llGSz2dX2HnU7ReYzmYxaY1kIgV6vR6fTqWUxdDoder0eg8GgPpTPt7e3byrbDy1JVEr5ihDiVZYNWXlWPDpAIMiCTlJeV8JjzY9TVHeepM0J2QREoqQXFwnMzGL2eLG6PBhsDhJpSSyeJRKNkIol0GX16HV67AUFmE0mdHodZqsNncFEOqvHbLHjtjop8biYm+2jb6Cd1mdfBOkmkZAkUxFCoz384NU/IjA/iC4ryG68cQzn9/trPGT+DfA54LONjY0DbW1t+9pZJpMhFosRCoWYmJigr6+Pjo4O7ty5Q09PD1NTU2SzWbxeL9XV1dTV1VFaWorX68VisajKZ/mmqVMVjKJsFIWWzWYxGAxq33Wz2ax2CY3H46RSKQwGAxaLBZPJpCogs9mMx+OhpKSE4uJi3G43NpsNk8mEEGJT2T4IxZNzm1cpZVoI8SXg+/kdwrLS0Zt0lNTX8LHPfobYrJXRoVnC0ZvoFyUJMhgLzKCTiKkpLGEHZqsTvdFCeilNLJogFkvhMFtxFrnwOYwU2A2g1xGLhEgmwGi04TCZ0dmjTCylcfqqaHLYeO/Hb3Dx4rNkdTbSmTQGTw2XP/N53vzO1xBZgAzaiuxYkpNsr5LrH+bjoKlUikQiQSQSYWFhgZmZGaanp5mbmyMSiZDJZFSFYTAY1nxOIZvNkkwmSaVS6uxl9SxFea7X6zGZTGpVQoPBQDqdJplMkkgk1M+nUini8ThSSkwmEzqdDpvNhsPhwG63r5klbcZBKJ6bwGkhRC3LF+Vl4Oe32lhK+YP8t/bNojPqaLh0CXNFJQ/uTFPidXOmsQKD+QzpaICUlDjsTpbmgkyO3ye0ECAWmCaTSrOE4LnPfZ5zrZep91fg8zgwGZenrelUhkQyRXgxxMjQMA/67zM+OE7abCaQtCOyRhrqztPV+SG1DY0kUmbiqTjW4lNYbC5i4QDkeXmrcWjkLNtSyh8AP7h8+fK+LnYqlSKVShGNRgkEAszPzzM/P8/i4iLpdBqTyYTX68Vut1NcXExFRQXFxcV4vV61nKmiJOLxOOFwmEQigZQSs9lMQUEBTqcTm82GzWbDbDZjtVrV10oxu2QySTQaVes1Ly0tqcs8ZWlltVpVxWM2m7etUJh3xbNO2+uBV6WUd/N9nO0w6gxYy3w4q87jL6vCXVGMzmAhHV1kbvI+ekOWIk8JhmSUVGSSx2orSVeWoxNGTGYz92dH+dTP/DTekmJsMokuq8OMHrvQYTDqSRv1SKeJU34fT1+/wvTsIjc+aOPWnU6SOj16UzENZ68wMdVNcdGp/9/em8XKlt3nfb+11p5rOtOde1SLVHMyJVKRqESWGQdGBMKG/GAZMZA4NgIYARInQfJgIXnIY5w8BHCAIICABFaAIJKROLGBMIFp0YZESaQoEZxkks0e2HPf6Zwa97SmPOxau/e57Hu7m337ntO36wMK99w6Neyq2vWd//h91IuIprnF6PJV7GZOa3fxzgcRD/rcds5hjKGqKtbrNcvlktVqRdu2pGnK0dER4/GYOI7Z29vj8uXLXLp0icPDQ6bTKXEcY63toyVrLWVZYq1Fa90TQ5qmTKfTXimzKAryPCfLsp54wmNIKdFas9lsaNuWuq77ek5RFMxmMyaTSZ/i3Q3vS40nsP378djvBMWlC/z5v/x3OXjyCu3G8tpiSawa6luvkzuBkClFnPLqK88wHseMijFNoztD+umYS7MDvvun36LOLtG2CtlEXLs84akn9rh6MedSrkmkQKHAC4qLY6795b/IZ37xs/yjL36ZzXLNx48iJpuIr37zn3Hxp/4CN9+YUxxcY/6jH+KtPau3Zof3iAd5bmut+0hjtVqxXq8xxpDnOVeuXOHo6AilFOPxmP39fQ4PD9nb22M6nZLnOVJKrLXUdc18Pu+jECklZVn2hejRaMTe3h5HR0f9fQPpCCFwziGlpG3bPh0D+kK3cw4hRO9uEYjnXpnMeVEgvG9QccQn/8JfQoyPWJQtbdXiTMVivYTNnCyXqCinWi6o10uODh+lrjVVVVKWG6SESTHh61/6Igt1mXj/aZIi4wcvxnzl6zFZknD14ojHrk557OqIRy5PuDKKUMLyyP6EX//VX+XLf/BH2M1tRnie+/Yf8olf+gKvX5/A6DJXPv4pXvrW13chzw73hHPuVLSyXq+p6xopJQcHBxwdHfVp0XQ6ZTabMRqN+jQnpD/hMQIZhDrQYrHAe99fFy6BjELdJhyHMaZP+4a1m1A7klKyXC6Zz+f9sTzwiOesIIVg7/AKYvwot5ff50g8QWI21OsTYt0ipEVKR6Qcy5PbjNMCXEJZ1TRtg9YNdS3ACczJS3hzjDQp46d+gUZ7TsoV1sx55bbi288WxFKyN0v42E8f8umPPcYkT6jrGOX3eHXzIsKlmEXJ9Zee41Of+DTz5W0uPD3mxvPfoV7WZ/127XCOYYzBGENd11RVxWazQWtNkiRMp9P+EmoqeZ6TJMmpbhO8SQyhUBwinjRNqaoqdJ56YmmaBqVU3/kKZBPSvGBtI4QgjuO+YxYis+VyyXK5ZDKZfDiIRyBRQnD45CeJkxgRF7TtBrs5JtIlsW6IhCX2KTmOebliNpliraauV1ijkTiqco2SEaPxjOp4weKlL7O6+QxXPvM3GR09ySxd40VEkqRkaYL3jj/5s1u89EbFJ55+HGE1r776Btg5N168QZRqbr74DB/52OcY7V/AJ4qDxy9w47vXMbTgI8Cc9du3wznDsHNUliV1XeOcI0kS9vb2uHDhAvv7+z8WyQznawK01n3aNGyrL5fLfoanrmuWy2VfB0qSpD+Gtm3ZbDb9cVhrT7XcQxQUbheKz0mS3PX1PTTEA+CEYHRwgIoi6nJD3W5IvMY0G8ZZgm0qyCKc0dStZl9FmLah3KzJ8wxjfDc4iEWlGSZuGU0u8ML3vsfNxX/Dn/ulv0tz+FOkhe6mDHVDGgkuHGS8/votmkaRJTHXn/sGSfQG5XJDkRdcf+k5vK6ZFjNu3bpBlj2B5zoIEH6Xde1wGmGoL7Sx67ruaylZljGZTHrfrPF43Ec5d0OSJHjvGY/HfWHZWouUsie0QCir1Yooivr5nnAsYUhRCEGSJERRhHOub7FXVdUfa1mWlGVJlmV3PaaHhng8IOOIZDKmNQbfltTzG4gkYhQrvNU40+JMzGpRUWtLYxy6WtM0NePxiLLcgPCkhWFRlsRpQjEbcflTT/Lasy/w5X/8H/Loo/82hx/9i+wfXMI0nrrStN5QVhue/f5zxMmc+vmvcrQXUWQZaZLw+mvPcPPlH3Lp4ALHN2KEmGGx4Lt5ox3x7DDE8Mveti1t2/ZEEcdxP2MTIp2389MSQvRzPqEmZIxBKcVms+lJJzxf0zT9QCF0k8lhcDDLst4RVynVp2fhMUJqGCy/74aHhnigI564yCjLErO4TWwb2rIiyXMaXSNMQ5FI2qZCG8u6rKCpsNaBgLpuiNMY7TxNXVKMJtjVbS7lM9KnnubleMTLL32Rl3/4TyjGh4ymj5CkBzhq2rKhWt+gNTe5+OhHaawkRzMdjXjjtRf42u//P3zhb/wn/ChLeb29jVAOb3JgV+vZ4TSGBd2maXriCcXfJEl6wnmnJn5D4gmEkiQJVVWdIovhCsawlhNmdCaTCUVR9NeH9GqxWNA0DVLKPi2rqurux3Nf3qkzh0QimB7N0GaDqzaU6wXTIsZqw6quwLTEGNZVyWa1IU0yqtUaby3GWTb1mqoVqFThjEfXLeSOqqpIJwdEXnD58jVUGmE3G5ytsPZ1zPpFXJyRpvt4qTDVEW2U03qLMYKkiIlkzI0f/gGvfu/THB7+FM+xR+QEWmg8Cvw9trh2+NBh2EVq2/bUOkMgnjv3sN4JlFLEcUxRFEgpybKMpmn6S1mWbDabfjjQGNPfbjQanWqVhxZ7aNUrpTDG9EOGq9Xqw5BqeRxwdPkCdb2h3WisadmsGyI8VmqSSGKdpzWO+XLJ/kyipMC0Bm1asrqr5Hs87lTYWVOWK4gy8jQlWkgmV68hk2tYLzD6JvnkKgf713jxxT9l/cZLxK4itg7dSoSKKCYFJ4sTvvTF3+Gv/Lv/OQcXL3IzSkA3eH/mIpA7nDMMW+mhhhLSpWG08269y4fLm0op0jT9sRQrRD11/WYkniRJP1RYFEW/RhGI5/j4mDzPOT4+7jtg8/n81PrGjx3LT/zunCt4RCTZu7jPSVOyXi5JhKRtLF5KhDCIJCKJY2rjqHVLWdc473HGgrPbHNVhTfhr002M6lYzP77N6KiTIjnan7Fa3iCJD0nzQ6poishzsouXkMsZYzshqjZIabp9FQRpPkGVJfX6Fn/8z3+bn/7U5/nRN69Q33wBv6su7zDAnXMzbdv20cVw8/wnIR7oop5APHEc473vI6rQOg+pXagrDQkvtN9DurbZbJhOp32Re7FYsFgsSNO0b8m/FR4S4oE0j/EKqtUGaxoMgtjLrTSFQTeONElZbsquhmO6kXFrLFmkWCyWOJtinUK3Gm0M9Ta/xnl8uSaKU2Z5zmIVUZvbKO2JZYE+fp342keZjQ+R5QbrIqzfIEyFbhuiaEQUFaSu5pUffofDRz/NIx//LM///ks4v1vd2uFNOOdOFZa11hhj+hpNIIAgRfGT4M6WeyC7EAENu1nhOULEFaIYYwxFUTCdTtnf3+830heLBWVZcvPmzYe/uCyFJB1nNJVBbLYzBdYi6QQybJThrKWuG5aLBUIVQBcmthZSIag0eCpmxHjrcEKwbg1OO6Q3+ONbTKZ7NFaTS8WmXuN8jEw8y9Utbt58jSSyjLMxpV6QVpqGCE2DlI5MKayIUWnC97/xe/zM5/8Sr31rRjNfYditUOzQIZBA6BYNtXYC8YS1hfu1XD0kolBUvhNCiFM1JSklxhhGoxEHBwf9usbJyQknJyd90flueCiIB+HJ8wLbGHTZ4oXAW4NXEuMckYzxztLUFU1VUowijPGYtkuvXBZTNw1SeLx1GNru/s5hrMVaQ4pHVxtcU5KpiFVZ42QJgGk1t6+/zMGlfbyIyOME0QBIVBzhhMQJgbEGpKRubrGcv8T+lQnXF6tdqrVDjzC/Mywse+97uYp32816twiRzdshTD+PRiNmsxlHR0dcvHiRW7duMZ/PWa1Wb0lg/f3v50GfFbzwZFmOrgy0Db7ReG1w1qGNQbc1SnjK1RLhLdJpWq1pW00kLNpbGt3ijEU4R9NWKGuJnMOY7nZNXWHbGl2uMG0LtoW2xJQLFI7N8mV02dBYQxQV1D6iFBFWZfg4pXUOj8OYBi/g1ReeY3b1COT9lgTZ4YOKkGaFiCekWXcWlkNH66wRRVFPPmF/bH9/v59mXq1Wd7/vAzzO9w3dX4MM21qU92AMSDBaI4XH6RYnPLqpiSTgDLV2WN0wihOquptdiCOFaVsqY5DegYdW1zgiWutoEwHWYICmNeQqQtgWqSLq+oSmukppSrK0YO1jNh5i5/FCUrdN13sTCnxOtapJHtlDKrXbmNgBeHNwMEQ9xphTBd5hinX/NazePcIsT5DDODo64uDggMlkwvXr1+8Z8TwcxJNkWMDaFisE+BqFxFmHRyAROOFx2hBnGbW1WNMivMH5hLYskaYmimK0LtHGonAoESNNg3UNFqibruUeUWGsQNMirIZ8hHcC3ZyAjqh9Q20cRpdYD65tkElKlBVUxiFci3CGdX3A3tUZ11+4+6DVDh8eDKVIQ7QTCrxhajmkWeeBeIA+EhtKaxwcHDCbzU615O/E2cdr9wFZnKC8w1iNFg68QXiL1S3OtAjpaZoKcFirMbrB6AZvNdZo6qpE4pDCUVUbdFPhncW77nG0bgCPNhprDVa3GK2p6pKyLnFaI62l2SzQ7ZpVdUJVVzTrDaasaKoN7D+Om14lchbfsSTLZs7P/MqTZ/zu7XBeENKs0FUK/4YOVmiD3y3iGUZM99vE4W4YTjZPp1OOjo64fPkyly9f5tq1uzvevC3xCCH+FyHEDSHEdwfXnSvb3vEoR0kwbQ2uS5O6vawWJcG7jjys1VjbYtqOdKR32LbB6QZJ97OuK6xuEN7ijEZ4h3cG57v7Nk2FNy1GN9RtRdV2LXOpW0RTUtdz2vIE12qaWlNWG7TzRMWU1oFwFiEtSnvKRc2Tn37iQbxFO7wFzuO5HcgjzNIEAglkEhYx73YJQ4fD/xvz/ubyofA9Ho85PDzkkUce4amnnuKjH/3oXe/zTiKefwj86h3X/Qbwu977jwC/u/0/dEZnH9le/g7wP73L1/CTIRZEsSSLFEobIgm66UgoktC2Nda2uK0NTSAlge9IA3DWYHSL0S3OWhQe4Sx4293PGozWeGc78vCWVjc0pqGpK3xT43WNbtaIukQY29V2vMXKBNUscIvrCBUhEkNkQa4T7Dp9IG/RDm+Jf8g5PbeHdjMh7QqkE1YSgvZNuATBsCBLEWQswqLp+xUFhTQw6D4//vjjPP3003zyk5+8633etsbjvf+9rbvgEL8GfH77828B/xL4ewysTYGvCiH2hBBXBm6E7wsSZUl9g/YW6zzOO7yxnfyiB6sN1miUEuAsGIPyBikk2gtiYTtfCu/wxAgESkiEdGRSsPDgrQPhUELgcHgD0ksskkq3SOWIdAY+pZKO2tZI4YiFQnqNWd9C6goZSZSIMdKjbMnLz83fz7dmh3vgg3Buh65WENkKrg5RFJ2KiEIaNlyLCPWXLMvI8xzvfT98eD8RiCdNU2azGVJKRqPR+zJA+G6tTX/sw9ka+v2dn/D5T8FoS4QljRwrWlorQElQklYbGt2ilMABzlm8c8SR6sI971FKIrxDCo/AI6XAmHb74SmE93hjQVjUVvzau65w7b3H6QbjwbY10luM7LpfSgjwrqs/tQ3eW5z3eB8DDuENr7/02v14C3a4f7iv5/Zjjz32rp48DOrdqQwYajeLxaJfWQgt9/DFDwQTul/DrXLvfU8+Q3K6GwkNTf7e7rZAv/sF9NHP0F7nTrznrpb33gsh3nUM573/TeA3AX6S+w+xXlVMHz8AVxEnDqsNkRJIV2OMIUYTSQV4PIY4kkyyiCgSVNrjvUPiiKXoitKmpabtBau90ygZgbdEMu4ex2/nLrDgDVZIrK6JhcaYCLUtCuIswmh824I3eCIQCiE0wnmqRfleXvoO7yPux7n9buxtho6c4UturT2VQgUNnCC4FQTYQ0t7Op32msmh7hJqPEHBcLgGEZ5zSCphf2uYmt3ZWXsrBJXDMGH9fuxqXQ9hphDiCnBje/07NvO7n9hsKnCWxx69iL21hpHFGbvVMgEXK6JIdqmWl+QiYpRGSCFZNYZV4/DO0wUoDofAGI82CuslaayIpCJRklgJamuw1tMav62SWayRmKYmS2LWWhMl6Tat0whr8M5sI55OwkMIj/Qe1+zWJc4ZzuzcDisJYW4njmOcc72oVhBfD2nXfD6nrmviOGZ/f5+joyMuXLjAeDwmTVOyLOs328N9Q6oVumXhuYZuo8NBxnC7kEoF8rrbdHOYNwoLqHfDT0o8/xT494G/v/33nwyu/4+FEL8N/CKweL9zYADTCl6+ecJnP/cJ9idrFidrXnn9DXQrsB4sghjJOIpR3hCnglGRI1WCbFpYLzGtJ1JxV/exjspojtcbWueJgExBkUbEkcVo3c3iWIHzMZ4uLRNOoE2EUGC8Q3pQGKxr8c6C8wjnSWyLdh4rJW43PXjecGbndog+hrUaoPfWCoSwXC45Pj7m5s2bbDYbsizrHSiCO0T40g9XLYKURRhMhDcFwobPFwYYw22klKeEwAKR3Sv1ers60tsSjxDif6crth0JIV4B/mu6D+UfCSH+Azrf77++vfkXgS8AzwIl8Lff7vHfOwSgODmumRQTmnTFc7dfZdM0jC9c5Y2X3kBrz6ZucNpTSEuSZIxHY4qsoGkaEtkyn5d4L7FaYIzDeYFUKeV6ifeK1mpqY8iSiFk6wkaaVrdo3ZImgkgoVCxZNzUqzzFbC9dECISUaDxCSiIp0U3dTSwLELvV9DPDeTy3Q0oTCGjobT5MmYauEM45iqLoO1jD3a6gjRw0kZum6YW+wlT0W61iBDmO8Fiz2YyLFy+eOrY7xdyHM0hvh3fS1fobd/nVv/UWt/XAf/S2z3pf4fFYnEnYKy5wbF9EmJqrFy9w8bGnuHlzTWlr8iQikS1WNxjt2J/usT+eYNqGkbRQWRbrFu8jlLXkkWK0v4/0sKkNiRSkUmDKiqrRJDJiIh2Z8IzTDKUkFoexhtgaVPeGEAsP2y6ZxyPZFq6JEEIh/EMxPP6BxHk9t4ee5nda0oQaS0iJwpc/z/P+fmGSeDqd9rUeoFcLDBbIVVX1xeZhXShEPqGoHccxZVn2/ujBSifoBHnv+5b/23mmBzwcZ720HB4c8sQjH2Fz4xV+7hMKR8KmXvNzj16iWq9Yr5ddOBpnzCZ7PH7tUfZHBbqqGMkI24AUJ3iliP0Y7T2Na7k4TolmI5ToulvWjml9i0BwYTYhiVPSOKLWmteXJbHzCOcQWCIkwjlwnkiGMXffDyUKL+jGmHfY4U0MpSeG0cVwLyqIbwWt4+CDnqZpf5v9/f3eSjikaGF588aNGyyXy95Ha+iZHkTkA/EEApzNZqc0mQOGCoZN09xzRyvg4SAeL7h49SI/+/TPMIscP3rxWV57/VVWqyWZgxu6xjcteZyR5SOefuIjfOTqE4yyHKNbsihCSs8oTyjrGtOKTp3Qe6SSRIkgiVOkjIiiGBF1heleHElGLKsN62dfYNnUREga58jwCGGQQpBE3V+tpqlJlMcLhXMCu9Nb3uEODL/Uw9b6aDRif3+/90RfrVYcHx+zWq3QWpPnOaPRiPF4zGw24+DgoBdmD2QRtJBDChZa8mHGB+hdRZVSvf1NIJYwUR2impACBsfT4Kn+du33h4N4gE984mPMJhOuXryCLVfYzRqzXFJbw/54xqSYouKU6WyPn/9zP8+lowtEQtI23brDOC44nBxyspxTNS3G6DeLa1FMno8Yj6dMp3vkRUG0bSk676mbmusnt3nm1TeISwMInLMgJIguvZJSghAoBCJSOCSNNUjeH12VHT6YCN2kgNAqF0Iwm824dOkSo9EI6GRHb9y4wa1bt1iv1/3gXkizhlbCbdsC9KLudV33FsbOuX74b2gSqLVmvV7TNE3fxRrukIWaTvDVCjo8TdP0bfW74eEgHueZFGMioTg6OCTzH2WcFBxODlgs5izrBodgPJ2RpAWPXXucyWiEN46VneOKPYpswni8x/5sTWMq2rYBD1Eck6ZjxuMZRTFmVIyJIol3Huu6lv2q2WDxjIsRybyiZTvuLsA5j8T1c0QyjbvlVSFojUe+txGmHR5iDAcD4zjm4OCACxcuMJ1OgY54hvrHAEVR9OQTLmH2J6RwQgjSNOXg4ICyLPtoZzKZsLe315NVqAktl8u+1R7MAIeyHWGNY7lcslgsaNu2n+W5Gx4O4oFOuNhb4ihmND7gypWELJuxXi+p2gqHR6oYj2RcjMnTHOMbpIhI8qITAUxSVJKh6xLvtp2BNCWOc7JsRJJmJHGCxKPbFlRMHqUkecymKdmfzYiun1C2Bu8d3ks8DoFAIEmSGIGnFTGbSiOwyJ384A73QGh3B0IZj8eMx+O+/lOWZV8oFkL0t8vzvLcYHkpphBRoNBr10UyY1QlElWUZ3vtTxBbqPWFnLERQxphTpLNer3s95nupJD4UxOOlx+gao5d4myKFIokTZtN90jSnblu0qfDekSQFk8mEREUsy5pISlySYdqWyAoyH5FEKUIqojQjyXKiOEFuI5a26TpkcbTVnxUgXcokS5lOcuIEVGuJrcPHMeiu6xZHCYdFQZE4Xp9rbq9bSDzqHCjJ7XD+EKKdYBkcViDCIB9wShgsDAYOfdRDlBLWHtI07WtG0+m0l1aFN6Og4apGHMf9hHRIr4Y2OIGA5vM5x8fHLJddAyc890NvbyMdNGWNqWukcVhLr7njjO52qdoK3RquPHmNNI7xzpHEijxPMaWm3CzYrE8wpiGSGXk+QkmBxHeyGsZ0dRsAEuIoQgrV5eS+m9GJlSJWiq551aViSoDAsTfNOJim7O+NePaNm3g8sRqTFHfPg3f48GHo5hC6WXVdn4oeQvE5pDsh1QrtdKUU1lratu1b8SFCCrM9wVF0aFM8dK4IlsRFUZCmaT/3E4gotPTLsuTk5KSvM4W0LVzuhoeCeBCK737/ByyWczKToE33xtVNTbnZsFgcc3Jyi0ceeQJlod1sAE+kBELRyZnqhlW54vjkFkmUc+HgYhdmao0Tcmtk70BI1lqf8jZqfIM2GjwkKupPDO+6nS4VxeyPR4zTFCESTlY1USKIopjDR2L4kzN993Y4RxiSx3CTPHSSQqpjraWqKtbrdR99hLZ5KCAD/S5XaJmHyeY706BhGhYK3EOdZyllbzIYIiBrbT9FPZ/P+9pOqBHdSyXxoSAeLyQ3l3Oef/Ul9n2Bd10Vv6oq5icn3LjxClJJHvmFf531Ykldr0EKLJ7WaLzT7O/tM9nbI84m/PCZ76HbTn9nlBWgov5D8YCLEpTuPmghJY1rWJWbbthKqi3h+O2QF8SqYBTnXL14he8++yOMU0RCo1TLRz91iT/8v8/6HdzhvGA4wzMcIAwt7ZDKGGP6ukpIcbz3rNdrkiTpfbICceR5zng87ms491r2DMQ09GqPoqif1wnE0zQN8/mcxWLBarXqp5yH7qR3w8NBPM7z6ivX+cGrL3HZz0jNQfLPAAAS2ElEQVS2djar1YKbN69zMr/FxWuP8+rt21TzBZv5Aue3GutSkCaKNMspm5bVqqRyErepEP42bqqJ0hSkBNmtP6jW0AiPjCIcUGNZNTVWOOJYdpGRs1gX0/qYPaFQkeS5F1/gOz/4ASoWGDPm8UdjvvPV4zN+93Y4TxhaDA9rNSF1qqpqOw/WfelPTk76aCNEKWGRdDh0OB6P+zQuLJ/ejXjuXFQNxBPmgcKcztDXHd50KQ3R2L2UDx8K4gFPWTa89MZtfNoinUTgWC/mLE6OqTWsK83v/+FXqDZzlO98tJCCsipZlnOEVCRphvWCRx9/ikmeUa/XHG+WZLZAKIkXIKRCihaHR0QK6z21t2x0DUIQR9E22nFY72iN54XlghvfPcbqhtJ5UhuTTyume/t87cvv+/L+Dh8gDAW9hrUeYwx1XbPZbPrdq5OTkz7iCW1u7z11XZ/qak0mE4B+Yz1N0/6x75YODWtCYVVj2OEKpDYajfq1C+dcT07r9fqer/OhIB6Jo9WC51+9zfgxSVsbfNvSrJbUzYbJ7BJXrz3KajXnhVdeoNEeoxvapsR5jUjiTm8njnnskce5evESWRJjJ2PWyxWVaXHaY73DS4lHdUOAjccBGo/2LQhBGncdCEGXAzvrEQ4a7xBekniBl5L9yxHWpqxP7i6WtMOHD8NaSyjQDms3oV0d5E/DMGBY+FRKnRKNB0iSpO9AhZ0qY0wfVb0VAvmFLlogq7A8KoQgz/P+EjSeQ70ptN/vhoeCeASAl7x6/Zif/dg11uWaqlzSrpco5zmaZggJ48kBT3zkE7x68zXWqzlWtoyzgsnkiDwtmORjDmYHjKIEJSQyK4iF5PZyQVWV1FrjBBgvUFGMiCRIiRXghUNFiiLPybOMTbO1J/GduJiTAm89Snqi2HFw4RLP/NkbYHfEs8NpDAXBQi0m1E28932BdziHA/R1IKXUqY5WWPIsiqJPwUIkdacIWED4XSCeLMv61Cwsh2ZZRpZlvWzHYrHoU8IwZHg3PBTE4xEgWv7sO8/zV/7Nz5LmCVUpWRvNOC+QaYyIIZOKw/19GrsmwuDSlDzNmI1mZFlBlGQQRdTCoI3G+049MEoFhUgwa0NpDY23CGGRXpIR463HC0EsI7I0YlYojld0e1jOgzMIEeGcx6sIlSbUi5rXnruJdbsBwh1O484vfUhzhrWTOyOLkGqFOZu6rvvFz2EtJsz0DJUHw1zQnRhOTocicyhiA/3vwv+rqurJ6e1slh8S4umwWpe8cWvB0cEY31qqxQYpJMe3r3Nlb48oHROZhkujPQ7jopsnFgKRKLJ8hHEe46Axhsq2bMo1bbnBNjUHkz2iOCaWAu8EPrypvtNoFirC40iSmPGoQIk53nUtUOk8Xjg8FqkE0wN44fu3sY1kZyO6w50YRiqhMxVFUS9jAfQEEr7cgYSstf1AYSCvoiiYTqdcunSpJ45huz5EP3diGBWFIcaQyg3TqJAeBmILQ4gP/QChx8PWufiZF1/nytHTFNmIS0eXWM0XnNy8zffa7zFLxpS3FmhjGE+n5EXOcr1iXZWkeUE+GiNUjFCSeb3m1vwmOEueRgghmYxmpCrFG2hslyPjHDKKoN+DgTxNSGKF8K6TwPCdHIb3hiSL2NsveOnbi85WR3h2WxM7DDEcIgxRSxjiC+lLGAIMwl6hy7Ver/s6TCCVPM/Z399nPp/3heHxeMxkMqEoirt2uIbdteHuVRAhCzWkYcQVJq1DXehueCcKhI8C/yud2r4HftN7/w+EEAfA7wBPAD8C/rr3/kR0ZfJ/QKfWVgJ/y3v/jXf4nr8neATf++GL/PnPfAzpFdPxlMgJhHEs5hsW6zl+XrKsN2hn8UpivSf2cdetiqJtzcZSC4NIJUdH+xBJvBQI2Ql64TzebieTperSqa3glxCCOJLdDpYzdLyisK5Lz+JEcf3VNbZ1SDTOS2AnjXEWOM/ndohaAvGE2RvgFBGEtnYgldVq1ctkBEIpiq3SZpJw4cKFXsM5dMHupRg4rDeFDlgQIQui8yEFDHM7WZb1M0N3wzuJeAzwX3jvvyGEmAB/KoT4EvC36IzP/r4Q4jfojM/+HqeNz36RzvjsF9/B87wHhPBT8/KL17m53HAkEohakkgwmc2YXdmHRYPa24CIWCxW3D6eY0w3Fh5lMSqPIZboVKJiiYwESaxAGSIhqeoa66FyutPqEQItJJHtPhBrLRa3nTC1uG7QGU+LJyOTgnwy4sbzSxx6Szc70jlDnNtze7gyEVT/siwDui5VUBxMkgRjTG/wt1gs+m30IamE1G0YjQzVDe+GocxqILNQSwo6z1pryrLsN+DzPGc2mzEej+/++t7uDdgKWr++/XklhPgenZ/QuTI+C2gazTPPv8jBRx/HkyAix16cM5vuo+OGuWtx8woVeQ4nMcJJyCVkEcl0ghqNkIkkiiRCery3eFocULWGdVVRGwPbkFJIiXEOBBhnMdZQ1fW21RYQIYiYFlMSCtbL1x+Yt/UOd8d5PreHxeUg8LXZbE7pJAdCCntT0EVDYaAQ6LfOL1y4wOOPP84jjzzChQsXes2dexWBQ5dseAmRUtB7DhFX2OUKSoiTyeS9Ec8QW9fFnwO+xns0Prufhn6n4OFfff8lfumTj9E2iixL2c9HTIsJTZJze3PCcbXAihpH558u84RkpDCFIM0F+0lClsQoJegmdVoqramNxniD8w6BfPMvihIY52iNpt5+QKd8iujSr1Ga8cqzr2PNTu70vOH9OrffraHfEMOuUpAkDV/2kIoVRdEXn4ui4ODggOVy2deCwpDf3t4eV69e5dq1a1y6dInJZNJHPW81RBiimiDyNbREDi39IDQflAmHhBgkNu6Gd0w8Qogx8H8C/5n3fjk82J/E+Ox+GvrdcaS8+tqCRVVRxGOEbIiSiFGaMc1jhHRIabh54xZOKoSMyLMJ4/GILIkokrRTF/SONElRSiCEhEawaiOiJAIpkEISJzFRFGO9R1tDYzQnyzlSyW32F+o+FqU0TW3ZrHYGfucN7+e5/W4M/e5EqK0E4imKoi8whyG+sA4xHo85ODjg2rVr/W2GxBVEvvb393tlwjB9/FYIczhhEXW1WrFer3vR99CyDztbxpg+HbwzNXwrvCPiEULEdB/M/+a9/8fbq8+Vqd8Qdd3ye998ll//3BUaF2NQZKMRk2LKeG/GpBhxa/865WqFtQalOnW3aGs5Y53De0MEpFGMFh5fN8QqJVMWJ0FGnUuER6Kdo7aWeblmUa2Z5nu09joWjxKdbIcTNbfriHcgwL/DA8R5PreHrhFBiH2z2fQpV+gihXb54eFhP7wXEKKQ4KEeIqQQ7bwVhsXjoL0TSCeIw4edrZB2hQ5YGCoM80d3wzvpagngfwa+573/7we/Olemfm+i25P61p++zOc//TqzfIa2FqEERZ4wicYUScal/UvoumSzXoKCoshRKtp6ZWmatqZpaxwebSytdVjnUXFCJCRIhXaeRlsqo1mVJbdu3yZLs+32sMUTRJggUgl1ZWHXPj83+CCc20PiGaoGBoH1pmn6jfM706ahxs5bzePcDW8qK7jezjjIcgRSC6QUHmc44RxI573O8fwbwL8HfEcI8c3tdf8l58rU7zS8c5Srlq98+1n+6q/8EsYaGlNhjSaNE3KVIKTGeUEiIqJYIR1ESqBUgnAeIxVeQtnWbJqKsmrQls73XCpa56msY61byqbi1skxzjsmxRhvQGvTKxTiLXhFU9fd5voO5wXn/twepluhbhJ2okI7O5j4hQnjoIUzdPwMP99LIyfgzvsOZ4mC60QgvjD9HCKdO5dQ74Z30tX6Cnf0aAY4J6Z+pyG8R9Dwx19/kV/51Me5uDejLEtW6gSMxRtLuV6yuH2bzXpFkuUk6ZtuirXRbKo182pJ67vaTd1qGieQUYo1ntpoVrphWVUcL06o6pLxKN/u1QC+qwPhLUKA0Rard6RznvBBOLfDMGHwy5pOp31tJWypr9frU1/4oRvpqSaH96cudz5PiF6Gxeug4zOdTnsHiVBMBvpickjl8jzvv0cP/crEnehUjhVNWfHFr3yTv/1rn2exKZF2Rbk8QopOO/nm8W3WyyVRmpIVOUma4vFo3bKo1qydpvUWPGjnMTLCaUNjFFXbsiwXnKyOqaxhNCnIsoQoksRSMkpz2nWFwyDTiGbZ4vUux9rh3SMsiw59s0Jxt21b1uv1qS32YZv8rWZ0QgoVEEhnuD4RIq1AdmEpNUxJh7Z6IKlh5y2sazz0CoQ/Dg9YBIrvfPd5/uCnH+PTT19gc3JEYq6jlMe2huP5nKaqiKsaVW62wl6eyrQ0TmOkwApwMsELiXWextYsm4ayXFGtl0QK9iZTsjQhSzrN5cRFPPn4FW4++wPsWJHUKU29Ypt3nfF7s8MHDcOoJ6RaobAbpDKCz1XTNOR5fkrL504MDflC5yvUkoJzaCgMB1/22WzWmwEGMfgQOYWoZ0g890qz4KElHoBgOAb/9P/7I0Z7v8zlIifSFts2tHVDU9VYbZC0+BYsDi8ERrBdnfCd/k4U4bE0bUPVVKzqDc4YRnlGliTEaUqeJhRZTBIpMiJ++V/7WW5UK25Lw/LZ4+2+VndcO+zwbjGMeiaTyakt9Kqqej2ckHaFWs/QCz0g6PGEdGoYTeV5fmp7PfwuzOYURdFHV4G0hnM7wU7n7WpJDynxhP2n7kvebCz/1//xx/y1X/8FptlldO1prcXgcbKzETbOor3FeY8XEqWiTl/ZGxwarRu0rrC6JY8i0lFBFKeoJGaUZmRpQpElJJGkiGP2Rwd89tGP8Tv/7HfRrQYv2ZHODu8FQbI07F4FRcKyLPvp4dVqdaq4+1YF5aGYe1giDSaBgWzC9vvQUicQT1EUvYj8dDplb2+P6XTa13ru1UYPeEiJ53QR1xjN7dueP/r9H/HXfu0pjluNaQVGCoz1aNEt7VgH1nk0GrTGW9fZ49gW8CglydOMJEmRUpGoiCSKiSJQCpTsnCNUFpElkieuXsYbD65TSfR4/C7b2uEnxJ2TzCFCGS6FNk3T+2fdawcL3mzVBxLK8/yUbk94zqEEarBHDlvoBwcH7O3tnZqEfrvnhYeWeO7EtuYjFKOiYFGXKGfwkcTUQNPgbSf8Za3GGY3VGpwnVopURSgVEUUKpSJQcluIkwjR2RAr4ZHbgcHEKzwxi03JeDyhamvasmLXSd/hveKtCs3r9bqv+8CbA4DDOZw7H6N3Tdm6iA6L0XdGSaHoHPSbq6rqu1iHh4fMZrPef+udRDvwoSEeAEscdyyNt1hnaJ2mxbwpHem7MfRICWIZIx0oKRHyzZxWSIGMBFKCxwIC4QXCe/AO4RxSKF68NedLX/sTVJ4RRwLjLLZudsvoO7xnDCOfUH+p6/qUbAacNv4LKxah/jKczwkzOkNXiyHxhNuHIvKQaPb39/uF03c6JwQfGuIRIDxPPvVkNz4uBImA1lu8swhinPV45/BOIJRAeBCq+5CdACclMlKdzgW+i3Qk24gHlPAI74iUpGpbvvTVb3C9rrFKIpxkfLhPeTzHbuod9+zwnjCcSB5ODAfSCIJdAUHgfRjZhMgpDCaG+Zuhx/oQQ8ubkFIF4gsF5bfrZJ16vPMgzyCEWAE/OOvjuA84Am79BPd73Ht/4X4fzA5nj925/dbn9nmJeH7gvf/5sz6I9wohxJ88DK9jh/uK3bn9Fnj78vMOO+yww33Gjnh22GGHB47zQjy/edYHcJ/wsLyOHe4fHpZz4r6+jnNRXN5hhx0+XDgvEc8OO+zwIcKOeHbYYYcHjjMnHiHErwohfiCEeHbrYXQuIYR4VAjxL4QQ/0oI8WdCiP90e/2BEOJLQogfbv/d314vhBD/w/Z1fVsI8ZmzfQU7PEh8UM5rOKNz+05Vsgd5ARTwHPBTQAJ8C/j4WR7TPY71CvCZ7c8T4Bng48B/B/zG9vrfAP7b7c9fAP5fOhGezwFfO+vXsLs8sHPlA3Neb4/3gZ/bZx3x/ALwrPf+ee99C/w2nWnauYP3/nW/tav13q+Aofnbb21v9lvAX93+3Ju/ee+/CuxtHQt2ePjxgTmv4WzO7bMmnrsZpJ1rvEfztx0efnxgP/sHdW6fNfF84HCn+dvwd76LQ3fzCTt8IPEgz+2zJp4zN/97N7iX+dv29+fK2HCHM8MH7rN/0Of2WRPP14GPCCGeFEIkwL9DZ5p27vAOzN/gx83f/ua2A/A5Hrix4Q5niA/MeQ1ndG6fg4r6F+iq6M8B/9VZH889jvOX6ULNbwPf3F6+ABwCvwv8EPjnwMH29gL4H7ev6zvAz5/1a9hdHuj58oE4r7fH+sDP7d3KxA477PDAcdap1g477PAhxI54dthhhweOHfHssMMODxw74tlhhx0eOHbEs8MOOzxw7Ihnhx12eODYEc8OO+zwwPH/A0UHu4zbnMRtAAAAAElFTkSuQmCC\n",
            "text/plain": [
              "<Figure size 432x288 with 6 Axes>"
            ]
          },
          "metadata": {
            "tags": [],
            "needs_background": "light"
          }
        }
      ]
    },
    {
      "cell_type": "code",
      "metadata": {
        "id": "SRutRw1mQUpW"
      },
      "source": [
        "! python main_model.py --weight 1 --epochs 3 --save unfrozen_baseline_blurred --blur"
      ],
      "execution_count": null,
      "outputs": []
    }
  ]
}
